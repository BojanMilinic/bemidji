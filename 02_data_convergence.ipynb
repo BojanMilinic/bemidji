{
 "cells": [
  {
   "attachments": {},
   "cell_type": "markdown",
   "metadata": {},
   "source": [
    "Make sure to have sqlalchemy-access installed for uploading back into the database\n",
    "\n",
    "Only needs to be done once! \n",
    "\n",
    "You can't be connected to VPN due to encryption issues. Install using Anaconda prompt when disconnected from VPN"
   ]
  },
  {
   "cell_type": "code",
   "execution_count": null,
   "metadata": {},
   "outputs": [],
   "source": [
    "# only needed if you want to reupload to Microsoft Access database\n",
    "#pip install sqlalchemy-access"
   ]
  },
  {
   "attachments": {},
   "cell_type": "markdown",
   "metadata": {},
   "source": [
    "# Import Libraries"
   ]
  },
  {
   "cell_type": "code",
   "execution_count": 3,
   "metadata": {},
   "outputs": [],
   "source": [
    "import pandas as pd #for creating dataframe\n",
    "import pyodbc #working with ODBC databases\n",
    "import numpy as np # for locating values in dataframes\n",
    "from datetime import datetime # for obtaining today's date\n",
    "import os #for working with directories"
   ]
  },
  {
   "cell_type": "code",
   "execution_count": null,
   "metadata": {},
   "outputs": [],
   "source": [
    "#optional- set dfs to show actual numbers rather than scientific notation\n",
    "pd.set_option('display.float_format', lambda x: '%.3f' % x) "
   ]
  },
  {
   "attachments": {},
   "cell_type": "markdown",
   "metadata": {},
   "source": [
    "# Manage directories"
   ]
  },
  {
   "cell_type": "code",
   "execution_count": 4,
   "metadata": {},
   "outputs": [
    {
     "name": "stdout",
     "output_type": "stream",
     "text": [
      "c:\\Users\\bmilinic\\OneDrive - DOI\\Documents\\Python\\bemidji\n"
     ]
    }
   ],
   "source": [
    "# my default directory is c:\\Users\\bmilinic\\OneDrive - DOI\\Documents\\Python\\bemidji\n",
    "defaultdirectory = os.getcwd()\n",
    "print(defaultdirectory)"
   ]
  },
  {
   "cell_type": "code",
   "execution_count": 5,
   "metadata": {},
   "outputs": [],
   "source": [
    "# connect to the shared drive which holds the databases and files (REMEMBER VPN)\n",
    "os.chdir('P:/0083/analysis/DataCompilation/DataCompilationPy/create_site_info_files')"
   ]
  },
  {
   "cell_type": "markdown",
   "metadata": {},
   "source": [
    "# Import data from Python"
   ]
  },
  {
   "cell_type": "code",
   "execution_count": 6,
   "metadata": {},
   "outputs": [],
   "source": [
    "# from GWSI\n",
    "dfbmj3 = pd.read_csv(r'data_inputs/gwsi_old/bmj3_fromPy.csv')\n",
    "dfrmk = pd.read_csv(r'data_inputs/gwsi_old/bmj_rmk_fromPy.csv')\n",
    "\n",
    "# from aquarius and MLR (not currently used)\n",
    "#dfaq = pd.read_csv(r'data_inputs/aquarius/Referencepoints_fromPy.csv') \n",
    "dfaq = pd.read_csv(r'data_inputs/aquarius/Referencepoints_updatedMP_fromPy.csv') \n",
    "dfmlr = pd.read_csv(r'data_inputs/MLR/MLR_fromPy.csv')"
   ]
  },
  {
   "cell_type": "markdown",
   "id": "17884b3f",
   "metadata": {},
   "source": [
    "# Import data from Microsoft Access Using PYODBC"
   ]
  },
  {
   "cell_type": "code",
   "execution_count": 7,
   "metadata": {},
   "outputs": [],
   "source": [
    "# connect to databases\n",
    "Gbe_db = pyodbc.connect(r'Driver={Microsoft Access Driver (*.mdb, *.accdb)};DBQ=P:\\0083\\analysis\\DataCompilation\\DataCompilationPy\\local_access_db\\BemidjiMasterSiteData_be.accdb;')\n",
    "Gfe_db = pyodbc.connect(r'Driver={Microsoft Access Driver (*.mdb, *.accdb)};DBQ=P:\\0083\\analysis\\DataCompilation\\DataCompilationPy\\local_access_db\\BemidjiMasterSiteData_fe.accdb;')\n",
    "# create cursor instances for copying/editing databases (not needed if only downloading data)\n",
    "c_be = Gbe_db.cursor()\n",
    "c_fe = Gfe_db.cursor()"
   ]
  },
  {
   "cell_type": "code",
   "execution_count": 8,
   "metadata": {},
   "outputs": [
    {
     "name": "stderr",
     "output_type": "stream",
     "text": [
      "c:\\Users\\bmilinic\\Anaconda3\\lib\\site-packages\\pandas\\io\\sql.py:761: UserWarning: pandas only support SQLAlchemy connectable(engine/connection) ordatabase string URI or sqlite3 DBAPI2 connectionother DBAPI2 objects are not tested, please consider using SQLAlchemy\n",
      "  warnings.warn(\n",
      "c:\\Users\\bmilinic\\Anaconda3\\lib\\site-packages\\pandas\\io\\sql.py:761: UserWarning: pandas only support SQLAlchemy connectable(engine/connection) ordatabase string URI or sqlite3 DBAPI2 connectionother DBAPI2 objects are not tested, please consider using SQLAlchemy\n",
      "  warnings.warn(\n",
      "c:\\Users\\bmilinic\\Anaconda3\\lib\\site-packages\\pandas\\io\\sql.py:761: UserWarning: pandas only support SQLAlchemy connectable(engine/connection) ordatabase string URI or sqlite3 DBAPI2 connectionother DBAPI2 objects are not tested, please consider using SQLAlchemy\n",
      "  warnings.warn(\n",
      "c:\\Users\\bmilinic\\Anaconda3\\lib\\site-packages\\pandas\\io\\sql.py:761: UserWarning: pandas only support SQLAlchemy connectable(engine/connection) ordatabase string URI or sqlite3 DBAPI2 connectionother DBAPI2 objects are not tested, please consider using SQLAlchemy\n",
      "  warnings.warn(\n"
     ]
    }
   ],
   "source": [
    "tblSites = pd.read_sql('select * from tblSites', Gfe_db)\n",
    "tblWells = pd.read_sql('select * from tblWells', Gfe_db)\n",
    "tblCores = pd.read_sql('select * from tblCores', Gfe_db)\n",
    "tblOE = pd.read_sql('select * from tblOtherEquipment', Gfe_db)"
   ]
  },
  {
   "cell_type": "code",
   "execution_count": 9,
   "metadata": {},
   "outputs": [
    {
     "name": "stderr",
     "output_type": "stream",
     "text": [
      "c:\\Users\\bmilinic\\Anaconda3\\lib\\site-packages\\pandas\\io\\sql.py:761: UserWarning: pandas only support SQLAlchemy connectable(engine/connection) ordatabase string URI or sqlite3 DBAPI2 connectionother DBAPI2 objects are not tested, please consider using SQLAlchemy\n",
      "  warnings.warn(\n",
      "c:\\Users\\bmilinic\\Anaconda3\\lib\\site-packages\\pandas\\io\\sql.py:761: UserWarning: pandas only support SQLAlchemy connectable(engine/connection) ordatabase string URI or sqlite3 DBAPI2 connectionother DBAPI2 objects are not tested, please consider using SQLAlchemy\n",
      "  warnings.warn(\n",
      "c:\\Users\\bmilinic\\Anaconda3\\lib\\site-packages\\pandas\\io\\sql.py:761: UserWarning: pandas only support SQLAlchemy connectable(engine/connection) ordatabase string URI or sqlite3 DBAPI2 connectionother DBAPI2 objects are not tested, please consider using SQLAlchemy\n",
      "  warnings.warn(\n",
      "c:\\Users\\bmilinic\\Anaconda3\\lib\\site-packages\\pandas\\io\\sql.py:761: UserWarning: pandas only support SQLAlchemy connectable(engine/connection) ordatabase string URI or sqlite3 DBAPI2 connectionother DBAPI2 objects are not tested, please consider using SQLAlchemy\n",
      "  warnings.warn(\n"
     ]
    }
   ],
   "source": [
    "tblcd_LocalUseCode = pd.read_sql(\"select * from tblcd_LocalUseCode\", Gbe_db)  \n",
    "tblcd_CasingMaterial = pd.read_sql(\"select * from tblcd_CasingMaterial\", Gbe_db)   \n",
    "tblcd_ScreenMaterial = pd.read_sql(\"select * from tblcd_ScreenMaterial\", Gbe_db)   \n",
    "tblcd_OpeningType = pd.read_sql(\"select * from tblcd_OpeningType\", Gbe_db)  "
   ]
  },
  {
   "attachments": {},
   "cell_type": "markdown",
   "metadata": {},
   "source": [
    "# dfbmj3"
   ]
  },
  {
   "cell_type": "code",
   "execution_count": 10,
   "metadata": {},
   "outputs": [],
   "source": [
    "# calculate additional columns\n",
    "dfbmj3['GWSI_MeasuringPointElevation_ftASL_NAVD88'] = dfbmj3['GWSI_LandSurfaceAltitude_ftASL_NAVD88'] + dfbmj3['GWSI_MP_height_ft']\n",
    "dfbmj3['MeasuringPointElevation_mASL_NAVD88'] = dfbmj3['GWSI_MeasuringPointElevation_ftASL_NAVD88'].mul(0.3048).round(3) #renamed for Wells\n",
    "\n",
    "dfbmj3['GWSI_MeasuringPointHeight_m'] = dfbmj3['GWSI_MP_height_ft'].mul(0.3048).round(3)\n",
    "\n",
    "dfbmj3['LandSurfaceAltitude_mASL_NAVD88'] = dfbmj3['GWSI_LandSurfaceAltitude_ftASL_NAVD88'].mul(0.3048).round(3) #renamed for Wells\n",
    "\n",
    "dfbmj3['GWSI_TopOfScreenElevation_ftASL_NAVD88'] = dfbmj3['GWSI_LandSurfaceAltitude_ftASL_NAVD88'] - dfbmj3['GWSI_TopOfScreenDepth_ftBLS']\n",
    "dfbmj3['TopOfScreenElevation_mASL_NAVD88'] = dfbmj3['GWSI_TopOfScreenElevation_ftASL_NAVD88'].mul(0.3048).round(3)\n",
    "\n",
    "dfbmj3['GWSI_BottomOfScreenElevation_ftASL_NAVD88'] = dfbmj3['GWSI_LandSurfaceAltitude_ftASL_NAVD88'] - dfbmj3['GWSI_BottomOfScreenDepth_ftBLS']\n",
    "dfbmj3['BottomOfScreenElevation_mASL_NAVD88'] = dfbmj3['GWSI_BottomOfScreenElevation_ftASL_NAVD88'].mul(0.3048).round(3)\n",
    "\n",
    "dfbmj3['GWSI_MidOfScreenElevation_mASL_NAVD88'] = dfbmj3['TopOfScreenElevation_mASL_NAVD88'] + dfbmj3['BottomOfScreenElevation_mASL_NAVD88']\n",
    "dfbmj3['MidOfScreenElevation_mASL_NAVD88'] = dfbmj3['GWSI_MidOfScreenElevation_mASL_NAVD88'].div(2).round(3)\n",
    "\n",
    "dfbmj3['TotalWellDepth_mBLS'] = dfbmj3['GWSI_TotalWellDepth_ftBLS'].mul(0.3048).round(3) #renamed for Wells\n",
    "\n",
    "dfbmj3['DiameterOfDrillHole_cm'] = dfbmj3['GWSI_DiameterOfDrillHole_inches'].mul(2.54).round(1) #renamed for Wells\n",
    "\n",
    "dfbmj3['WellCasingInnerDiameter_cm'] = dfbmj3['GWSI_WellCasingInnerDiameter_inches'].mul(2.54).round(1) #renamed for Wells\n",
    "\n",
    "dfbmj3['WidthOfOpeningsInOpenInterval_cm'] = dfbmj3['GWSI_WidthOfOpeningsInOpenInterval_inches'].mul(2.54).round(3) #renamed for Wells\n",
    "\n",
    "dfbmj3['GWSI_ScreenLength_ft'] = dfbmj3['GWSI_BottomOfScreenDepth_ftBLS'] - dfbmj3['GWSI_TopOfScreenDepth_ftBLS']\n",
    "dfbmj3['ScreenLength_m'] = dfbmj3['GWSI_ScreenLength_ft'].mul(.3048).round(3) #renamed for Wells\n",
    "\n",
    "dfbmj3['well_MP_height_m'] = dfbmj3['GWSI_MP_height_ft'].mul(.3048).round(3) #renamed for Wells"
   ]
  },
  {
   "attachments": {},
   "cell_type": "markdown",
   "metadata": {},
   "source": [
    "# tblSites"
   ]
  },
  {
   "cell_type": "code",
   "execution_count": 493,
   "metadata": {},
   "outputs": [
    {
     "data": {
      "text/plain": [
       "358"
      ]
     },
     "execution_count": 493,
     "metadata": {},
     "output_type": "execute_result"
    }
   ],
   "source": [
    "len(pd.unique(dfbmj3['LandSurfaceAltitude_mASL_NAVD88']))"
   ]
  },
  {
   "cell_type": "code",
   "execution_count": 11,
   "metadata": {},
   "outputs": [
    {
     "name": "stderr",
     "output_type": "stream",
     "text": [
      "C:\\Users\\bmilinic\\AppData\\Local\\Temp\\1\\ipykernel_32428\\379343451.py:18: SettingWithCopyWarning: \n",
      "A value is trying to be set on a copy of a slice from a DataFrame.\n",
      "Try using .loc[row_indexer,col_indexer] = value instead\n",
      "\n",
      "See the caveats in the documentation: https://pandas.pydata.org/pandas-docs/stable/user_guide/indexing.html#returning-a-view-versus-a-copy\n",
      "  tblSites2['WellSite'] = np.where(tblSites2['LocalSiteName'].isin(tblWells['LocalSiteName']), 1, 0) # inserts 1 if true and 0 if false\n",
      "C:\\Users\\bmilinic\\AppData\\Local\\Temp\\1\\ipykernel_32428\\379343451.py:19: SettingWithCopyWarning: \n",
      "A value is trying to be set on a copy of a slice from a DataFrame.\n",
      "Try using .loc[row_indexer,col_indexer] = value instead\n",
      "\n",
      "See the caveats in the documentation: https://pandas.pydata.org/pandas-docs/stable/user_guide/indexing.html#returning-a-view-versus-a-copy\n",
      "  tblSites2['CoreSite'] = np.where(tblSites2['LocalSiteName'].isin(tblCores['LocalSiteName']), 1, 0)\n",
      "C:\\Users\\bmilinic\\AppData\\Local\\Temp\\1\\ipykernel_32428\\379343451.py:20: SettingWithCopyWarning: \n",
      "A value is trying to be set on a copy of a slice from a DataFrame.\n",
      "Try using .loc[row_indexer,col_indexer] = value instead\n",
      "\n",
      "See the caveats in the documentation: https://pandas.pydata.org/pandas-docs/stable/user_guide/indexing.html#returning-a-view-versus-a-copy\n",
      "  tblSites2['OtherEquipmentSite'] = np.where(tblSites2['LocalSiteName'].isin(tblOE['LocalSiteName']), 1, 0)\n",
      "C:\\Users\\bmilinic\\AppData\\Local\\Temp\\1\\ipykernel_32428\\379343451.py:23: SettingWithCopyWarning: \n",
      "A value is trying to be set on a copy of a slice from a DataFrame.\n",
      "Try using .loc[row_indexer,col_indexer] = value instead\n",
      "\n",
      "See the caveats in the documentation: https://pandas.pydata.org/pandas-docs/stable/user_guide/indexing.html#returning-a-view-versus-a-copy\n",
      "  tblSites2[\"TotalBoring/DrillingDepth_mBLS\"] = tblSites2[\"TotalBoring/DrillingDepth_ftBLS\"].mul(0.3048).round(3)\n"
     ]
    }
   ],
   "source": [
    "# copy and pasted the list of available columns from tblSites2.keys()\n",
    "# select which columns to keep\n",
    "tblSites2 = tblSites[['AgencyCode', 'Wellcon_SiteRecordID', 'DatabasePointType',\n",
    "       'USGS_siteno', 'USGS_StationName', 'LocalSiteName', 'XcoordUTMNAD83_m',\n",
    "       'YcoordUTMNAD83_m', 'LandSurfaceAltitude_ftASL_NAVD88',\n",
    "       'LandSurfaceAltitude_mASL_NAVD88', 'AgencyUse', 'Comments_GWSISite',\n",
    "       'DateOfConstruction', 'Comments_DateOfConstruction', 'VarianceNumber',\n",
    "       'TotalBoring/DrillingDepth_ftBLS', 'VarianceGranted',\n",
    "       'SourceOfDepthData', 'NameOfContractor', 'DrillerName',\n",
    "       'StartingDepthOfHole_ftBLS', 'DiameterOfDrillHole_inches',\n",
    "       'PropertyOwnerName', 'PropertyOwnerAddress',\n",
    "       'HorizontalCoordinateSource', 'SiteRecordNumber', 'NWTPosition_m',\n",
    "       'Loc/MiscCom', 'PlotMaps', 'LogCode', 'SurveyNotes',\n",
    "       'SiteEstablishedForWhom', 'OilSmell', 'SiteVerticalSource',\n",
    "       'SiteActiveStatus', 'XLocal_m_FromArc', 'YLocal_m_FromArc', 'OnNWT',\n",
    "       'Comments_Status', 'ApproxRemovalDate', 'StudySite']]\n",
    "# create indicator columns in tblSites for which sites exist in each of site type tables (wells, cores, other equipment)\n",
    "tblSites2['WellSite'] = np.where(tblSites2['LocalSiteName'].isin(tblWells['LocalSiteName']), 1, 0) # inserts 1 if true and 0 if false\n",
    "tblSites2['CoreSite'] = np.where(tblSites2['LocalSiteName'].isin(tblCores['LocalSiteName']), 1, 0)\n",
    "tblSites2['OtherEquipmentSite'] = np.where(tblSites2['LocalSiteName'].isin(tblOE['LocalSiteName']), 1, 0)\n",
    "\n",
    "# convert from ft to m\n",
    "tblSites2[\"TotalBoring/DrillingDepth_mBLS\"] = tblSites2[\"TotalBoring/DrillingDepth_ftBLS\"].mul(0.3048).round(3)\n",
    "\n",
    "# rename some columns\n",
    "tblSites2 = tblSites2.rename(columns={'OnNWT':'OnNorthWellTransect',\n",
    "                                      'NWTPosition_m':'DistanceFromCenterOfNorthOilBody_m',\n",
    "                                      'LandSurfaceAltitude_mASL_NAVD88':'LandSurfaceElevation_mASL_NAVD88',\n",
    "                                      'Loc/MiscCom':'Comments_Miscellaneous'})"
   ]
  },
  {
   "attachments": {},
   "cell_type": "markdown",
   "metadata": {},
   "source": [
    "## Merge tbleSites (local access) with GWSI (retrieved) to update the USGS station names"
   ]
  },
  {
   "cell_type": "code",
   "execution_count": 12,
   "metadata": {},
   "outputs": [],
   "source": [
    "# match up datatypes of the columns that the dfs will be merged on\n",
    "tblSites2['USGS_siteno'] = tblSites2['USGS_siteno'].fillna(0).astype('int64')\n",
    "tblSites3 = pd.merge(tblSites2, dfbmj3[[\n",
    "                                   \"GWSI_USGS_siteno\",\n",
    "                                   \"GWSI_USGS_StationName\",\n",
    "                                   \"GWSI_LandSurfaceAltitude_mASL_NAVD88\",\n",
    "                                   \"GWSI_LandSurfaceAltitude_ftASL_NAVD88\",\n",
    "                                   \"GWSI_DiameterOfDrillHole_inches\",\n",
    "                                   \"GWSI_AgencyUse\",\n",
    "                                   \"GWSI_Comments_GWSISite\",\n",
    "                                   \"GWSI_TotalBoring/DrillingDepth_ftBLS\",\n",
    "                                   \"GWSI_NameOfContractor\" ,\n",
    "                                   \"GWSI_SourceOfDepthData\" ,\n",
    "                                   \"GWSI_StartingDepthOfHole_ftBLS\",\n",
    "                                   \"GWSI_DateOfConstruction\"]],\n",
    "                                   left_on='USGS_siteno', right_on='GWSI_USGS_siteno', how='left')\n",
    "#turn zeros back into NaN\n",
    "tblSites3['USGS_siteno'].replace(0, np.nan, inplace=True) \n",
    "\n",
    "# update USGS station names and date of construction for records with info in GWSI\n",
    "# Combine the station names into one column where GWSI updates the local column IF it is a valid number\n",
    "tblSites3['USGS_StationName'] = tblSites3['GWSI_USGS_StationName'].where(tblSites3['GWSI_USGS_StationName'].notna(), tblSites3['USGS_StationName']) \n",
    "# repeat for date of construction but I have to get the columns in the same date format (YYYYMMDD)\n",
    "tblSites3['DateOfConstruction'] = tblSites3['DateOfConstruction'].dt.strftime('%Y%m%d')\n",
    "tblSites3['DateOfConstruction'] = tblSites3['GWSI_DateOfConstruction'].where(tblSites3['GWSI_DateOfConstruction'].notna(), tblSites3['DateOfConstruction'])\n",
    "\n"
   ]
  },
  {
   "cell_type": "code",
   "execution_count": 13,
   "metadata": {},
   "outputs": [],
   "source": [
    "#NEWEST AUTHORITATIVE SOURCES FOR MLR (1/11/2023)\n",
    "tblSites3 = pd.merge(tblSites3, dfmlr, left_on='USGS_siteno', right_on='site_no', how='left')\n",
    "#station name\n",
    "tblSites3['USGS_StationName'] = tblSites3['station_nm'].where(tblSites3['station_nm'].notna(), tblSites3['USGS_StationName'])\n",
    "#landsurfaceelevation\n",
    "tblSites3['alt_va'] = tblSites3['alt_va'].mul(0.3048).round(3) # convert the column from ft to m\n",
    "tblSites3['LandSurfaceElevation_mASL_NAVD88'] = tblSites3['alt_va'].where(tblSites3['alt_va'].notna(), tblSites3['LandSurfaceElevation_mASL_NAVD88'])\n",
    "#dateofconstruction\n",
    "tblSites3['DateOfConstruction'] = tblSites3['construction_dt'].where(tblSites3['construction_dt'].notna(), tblSites3['DateOfConstruction'])\n",
    "#drillingdepth\n",
    "tblSites3['hole_depth_va'] = tblSites3['hole_depth_va'].mul(0.3048).round(3) # convert the column from ft to m\n",
    "tblSites3['TotalBoring/DrillingDepth_mBLS'] = tblSites3['hole_depth_va'].where(tblSites3['hole_depth_va'].notna(), tblSites3['TotalBoring/DrillingDepth_mBLS'])\n",
    "\n"
   ]
  },
  {
   "cell_type": "code",
   "execution_count": 14,
   "metadata": {},
   "outputs": [
    {
     "name": "stdout",
     "output_type": "stream",
     "text": [
      "tblWells3['well_depth_va'] = tblWells3['well_depth_va'].mul(0.3048).round(3)\n",
      "tblWells3['TotalWellDepth_mBLS'] = tblWells3['well_depth_va'].where(tblWells3['well_depth_va'].notna(), tblWells3['TotalWellDepth_mBLS'])\n",
      "tblWells3[['USGS_siteno', 'TotalWellDepth_mBLS', 'well_depth_va']].sample(10)\n"
     ]
    }
   ],
   "source": [
    "#automating this process\n",
    "v1 = 'TotalWellDepth_mBLS' # old variable\n",
    "v2 = 'well_depth_va' # new variable\n",
    "t1 = 'tblWells3' # table name\n",
    "\n",
    "\n",
    "print(t1+\"['\"+v2+\"'] = \"+t1+\"['\"+v2+\"'].mul(0.3048).round(3)\")\n",
    "print(t1+\"['\"+v1+\"'] = \"+t1+\"['\"+v2+\"'].where(\"+t1+\"['\"+v2+\"'].notna(), \"+t1+\"['\"+v1+\"'])\")\n",
    "print(t1+\"[['USGS_siteno', '\"+v1+\"', '\"+v2+\"']].sample(10)\")"
   ]
  },
  {
   "cell_type": "code",
   "execution_count": 16,
   "metadata": {},
   "outputs": [
    {
     "data": {
      "text/html": [
       "<div>\n",
       "<style scoped>\n",
       "    .dataframe tbody tr th:only-of-type {\n",
       "        vertical-align: middle;\n",
       "    }\n",
       "\n",
       "    .dataframe tbody tr th {\n",
       "        vertical-align: top;\n",
       "    }\n",
       "\n",
       "    .dataframe thead th {\n",
       "        text-align: right;\n",
       "    }\n",
       "</style>\n",
       "<table border=\"1\" class=\"dataframe\">\n",
       "  <thead>\n",
       "    <tr style=\"text-align: right;\">\n",
       "      <th></th>\n",
       "      <th>USGS_siteno</th>\n",
       "      <th>alt_va</th>\n",
       "      <th>LandSurfaceElevation_mASL_NAVD88</th>\n",
       "    </tr>\n",
       "  </thead>\n",
       "  <tbody>\n",
       "    <tr>\n",
       "      <th>1728</th>\n",
       "      <td>NaN</td>\n",
       "      <td>NaN</td>\n",
       "      <td>429.137</td>\n",
       "    </tr>\n",
       "    <tr>\n",
       "      <th>805</th>\n",
       "      <td>NaN</td>\n",
       "      <td>NaN</td>\n",
       "      <td>430.156</td>\n",
       "    </tr>\n",
       "    <tr>\n",
       "      <th>177</th>\n",
       "      <td>NaN</td>\n",
       "      <td>NaN</td>\n",
       "      <td>432.079</td>\n",
       "    </tr>\n",
       "    <tr>\n",
       "      <th>23</th>\n",
       "      <td>NaN</td>\n",
       "      <td>NaN</td>\n",
       "      <td>430.579</td>\n",
       "    </tr>\n",
       "    <tr>\n",
       "      <th>247</th>\n",
       "      <td>NaN</td>\n",
       "      <td>NaN</td>\n",
       "      <td>433.572</td>\n",
       "    </tr>\n",
       "    <tr>\n",
       "      <th>926</th>\n",
       "      <td>NaN</td>\n",
       "      <td>NaN</td>\n",
       "      <td>426.077</td>\n",
       "    </tr>\n",
       "    <tr>\n",
       "      <th>813</th>\n",
       "      <td>4.734291e+14</td>\n",
       "      <td>425.885</td>\n",
       "      <td>425.885</td>\n",
       "    </tr>\n",
       "    <tr>\n",
       "      <th>933</th>\n",
       "      <td>4.734261e+14</td>\n",
       "      <td>433.151</td>\n",
       "      <td>433.151</td>\n",
       "    </tr>\n",
       "    <tr>\n",
       "      <th>1275</th>\n",
       "      <td>NaN</td>\n",
       "      <td>NaN</td>\n",
       "      <td>430.640</td>\n",
       "    </tr>\n",
       "    <tr>\n",
       "      <th>542</th>\n",
       "      <td>NaN</td>\n",
       "      <td>NaN</td>\n",
       "      <td>433.082</td>\n",
       "    </tr>\n",
       "    <tr>\n",
       "      <th>36</th>\n",
       "      <td>NaN</td>\n",
       "      <td>NaN</td>\n",
       "      <td>NaN</td>\n",
       "    </tr>\n",
       "  </tbody>\n",
       "</table>\n",
       "</div>"
      ],
      "text/plain": [
       "       USGS_siteno   alt_va  LandSurfaceElevation_mASL_NAVD88\n",
       "1728           NaN      NaN                           429.137\n",
       "805            NaN      NaN                           430.156\n",
       "177            NaN      NaN                           432.079\n",
       "23             NaN      NaN                           430.579\n",
       "247            NaN      NaN                           433.572\n",
       "926            NaN      NaN                           426.077\n",
       "813   4.734291e+14  425.885                           425.885\n",
       "933   4.734261e+14  433.151                           433.151\n",
       "1275           NaN      NaN                           430.640\n",
       "542            NaN      NaN                           433.082\n",
       "36             NaN      NaN                               NaN"
      ]
     },
     "execution_count": 16,
     "metadata": {},
     "output_type": "execute_result"
    }
   ],
   "source": [
    "# my check to see if alt_va and LandSurfaceElvation were similar when both values existed\n",
    "tblSites3[['USGS_siteno', 'alt_va', 'LandSurfaceElevation_mASL_NAVD88']].sample(11)"
   ]
  },
  {
   "cell_type": "code",
   "execution_count": 17,
   "metadata": {},
   "outputs": [
    {
     "data": {
      "text/html": [
       "<div>\n",
       "<style scoped>\n",
       "    .dataframe tbody tr th:only-of-type {\n",
       "        vertical-align: middle;\n",
       "    }\n",
       "\n",
       "    .dataframe tbody tr th {\n",
       "        vertical-align: top;\n",
       "    }\n",
       "\n",
       "    .dataframe thead th {\n",
       "        text-align: right;\n",
       "    }\n",
       "</style>\n",
       "<table border=\"1\" class=\"dataframe\">\n",
       "  <thead>\n",
       "    <tr style=\"text-align: right;\">\n",
       "      <th></th>\n",
       "      <th>USGS_siteno</th>\n",
       "      <th>GWSI_LandSurfaceAltitude_mASL_NAVD88</th>\n",
       "      <th>alt_va</th>\n",
       "      <th>LandSurfaceElevation_mASL_NAVD88</th>\n",
       "    </tr>\n",
       "  </thead>\n",
       "  <tbody>\n",
       "    <tr>\n",
       "      <th>0</th>\n",
       "      <td>NaN</td>\n",
       "      <td>NaN</td>\n",
       "      <td>NaN</td>\n",
       "      <td>434.049</td>\n",
       "    </tr>\n",
       "    <tr>\n",
       "      <th>1</th>\n",
       "      <td>NaN</td>\n",
       "      <td>NaN</td>\n",
       "      <td>NaN</td>\n",
       "      <td>434.401</td>\n",
       "    </tr>\n",
       "    <tr>\n",
       "      <th>2</th>\n",
       "      <td>NaN</td>\n",
       "      <td>NaN</td>\n",
       "      <td>NaN</td>\n",
       "      <td>434.263</td>\n",
       "    </tr>\n",
       "    <tr>\n",
       "      <th>3</th>\n",
       "      <td>NaN</td>\n",
       "      <td>NaN</td>\n",
       "      <td>NaN</td>\n",
       "      <td>434.263</td>\n",
       "    </tr>\n",
       "    <tr>\n",
       "      <th>4</th>\n",
       "      <td>NaN</td>\n",
       "      <td>NaN</td>\n",
       "      <td>NaN</td>\n",
       "      <td>433.962</td>\n",
       "    </tr>\n",
       "    <tr>\n",
       "      <th>5</th>\n",
       "      <td>NaN</td>\n",
       "      <td>NaN</td>\n",
       "      <td>NaN</td>\n",
       "      <td>434.028</td>\n",
       "    </tr>\n",
       "  </tbody>\n",
       "</table>\n",
       "</div>"
      ],
      "text/plain": [
       "   USGS_siteno  GWSI_LandSurfaceAltitude_mASL_NAVD88  alt_va  \\\n",
       "0          NaN                                   NaN     NaN   \n",
       "1          NaN                                   NaN     NaN   \n",
       "2          NaN                                   NaN     NaN   \n",
       "3          NaN                                   NaN     NaN   \n",
       "4          NaN                                   NaN     NaN   \n",
       "5          NaN                                   NaN     NaN   \n",
       "\n",
       "   LandSurfaceElevation_mASL_NAVD88  \n",
       "0                           434.049  \n",
       "1                           434.401  \n",
       "2                           434.263  \n",
       "3                           434.263  \n",
       "4                           433.962  \n",
       "5                           434.028  "
      ]
     },
     "execution_count": 17,
     "metadata": {},
     "output_type": "execute_result"
    }
   ],
   "source": [
    "#**********\n",
    "tblSites3.loc[0:5, ['USGS_siteno','GWSI_LandSurfaceAltitude_mASL_NAVD88', 'alt_va', 'LandSurfaceElevation_mASL_NAVD88']]"
   ]
  },
  {
   "attachments": {},
   "cell_type": "markdown",
   "metadata": {},
   "source": [
    "## tblWells"
   ]
  },
  {
   "cell_type": "code",
   "execution_count": 18,
   "metadata": {},
   "outputs": [],
   "source": [
    "# select which columns to keep\n",
    "tblWells2 = tblWells[['WellEntryRecordNumber', 'LocalSiteName', 'LocalSiteWellSubName',\n",
    "       'GWSISiteType', 'MNUniqueNmbr', 'GWSIUseOfSite', 'GWSIAquiferType',\n",
    "       'GWSIPrimaryAquifer', 'GWSINationalAquifer', 'TypeOfBackFill',\n",
    "       'NumberBagsOfCleanSand', 'BentoniteUsed', 'TypeOfBentonite',\n",
    "       'CoreTakenBeforeWellInstallation', 'TailPipeLength_ft',\n",
    "       'TailPipeLengthRemarks', 'ProtectionPipeInstalled',\n",
    "       'ProtectionPipeMaterial', 'DiameterOfProtectionPipe',\n",
    "       'ProtectionPipeLength_ft', 'LengthBetweenProtectionPipeAndMP',\n",
    "       'CementPadInstalled', 'DrilledForWhom', 'DrillersFieldComments',\n",
    "       'TotalWellDepth_ftBLS', 'StickupLength_ft', 'StickupSource',\n",
    "       'WellCasingInnerDiameter_inches', 'CasingMaterial',\n",
    "       'SourceOfConstructionData', 'MethodOfConstruction', 'TypeOfFinish',\n",
    "       'NumberBagsOfGrout', 'TypeOfSeal', 'WellGrouted', 'DepthofSeal_ftBLS',\n",
    "       'StartOfSeal_ftBLS', 'MethodOfDevelopment', 'HoursOfDevelopment',\n",
    "       'SpecialTreatmentForDevelopment', 'TopOfScreenDepth_ftBLS',\n",
    "       'MidOfScreenDepth_ftBLS', 'BottomOfScreenDepth_ftBLS',\n",
    "       'Comments_TopOfScreenDepth', 'Comments_MidScreenDepth',\n",
    "       'Comments_BottomOfScreenDepth', 'ScreenLength_ft',\n",
    "       'ScreenLengthRemarks', 'ScreenInnerDiameter_inches',\n",
    "       'ScreenMaterialType', 'TypeOfOpenInterval',\n",
    "       'WidthOfOpeningsInOpenInterval_inches', 'WellOwnerName',\n",
    "       'WellOwnerAddress', 'ScreenMake', 'LicenseeBusinessName', 'LicNum',\n",
    "       'CertifiedRepresentative', 'CertifiedRepNo', 'DateSignedAndCertified',\n",
    "       'AltitudeOfMeasuringPoint_ftASL_NAVD88',\n",
    "       'AltitudeOfMeasuringPoint_mASL_NAVD88', 'MeasuringPointAltitudeRemarks',\n",
    "       'LandSurfaceAltitude_ftASL_NAVD88', 'Pre2010_CasMat', 'LocalUseCode',\n",
    "       'WellMPVerticalSource', 'Wellcon_SiteRecordID', 'WellPurpose',\n",
    "       'WellProjectID', 'WaterTableWell', 'SouthPoolWell', 'QuarterlyWLSite',\n",
    "       'TransducerSite', 'DifficultToPump', 'DifficultToPump_Comments']]"
   ]
  },
  {
   "attachments": {},
   "cell_type": "markdown",
   "metadata": {},
   "source": [
    "## Merge tblWells to add all columns needed"
   ]
  },
  {
   "cell_type": "code",
   "execution_count": 19,
   "metadata": {},
   "outputs": [],
   "source": [
    "#CREATING THE MASTER SITE LIST\n",
    "mastersitelist = pd.merge (tblSites3, tblWells2, on='LocalSiteName', how='left')\n",
    "mastersitelist = pd.merge(mastersitelist, dfbmj3, left_on='USGS_siteno', right_on='GWSI_USGS_siteno', how='left')\n",
    "mastersitelist = mastersitelist[[\"LocalSiteName\",\n",
    "                            \"StudySite\",\n",
    "                            \"AgencyCode\",\n",
    "                            \"USGS_siteno\",\n",
    "                            \"USGS_StationName\",\n",
    "                            \"XcoordUTMNAD83_m\",\n",
    "                            \"YcoordUTMNAD83_m\",\n",
    "                            \"LandSurfaceElevation_mASL_NAVD88\",\n",
    "                            \"OnNorthWellTransect\",\n",
    "                            \"DistanceFromCenterOfNorthOilBody_m\",\n",
    "                            \"WellSite\",\n",
    "                            \"CoreSite\",\n",
    "                            \"OtherEquipmentSite\",\n",
    "                            \"TopOfScreenElevation_mASL_NAVD88\",\n",
    "                            \"BottomOfScreenElevation_mASL_NAVD88\",\n",
    "                            \"MidOfScreenElevation_mASL_NAVD88\",\n",
    "                            \"DateOfConstruction\",\n",
    "                            \"Comments_DateOfConstruction\",\n",
    "                            \"SiteActiveStatus\",\n",
    "                            \"Comments_Status\",\n",
    "                            \"ApproxRemovalDate\"]]\n",
    "\n",
    "# format date\n",
    "mastersitelist['LocalSiteName'] = 'x' + mastersitelist['LocalSiteName'].astype(str)\n",
    "mastersitelist['USGS_siteno'] = 'x' + mastersitelist['USGS_siteno'].astype(str)\n",
    "\n",
    "# make nan values uniform\n",
    "mastersitelist['USGS_siteno'] = mastersitelist['USGS_siteno'].replace('xnan', np.nan)\n",
    "null_cells = mastersitelist.isnull()\n",
    "mastersitelist = mastersitelist.astype(str).mask(null_cells, np.NaN)"
   ]
  },
  {
   "attachments": {},
   "cell_type": "markdown",
   "metadata": {},
   "source": [
    "# tblOE"
   ]
  },
  {
   "cell_type": "code",
   "execution_count": 20,
   "metadata": {},
   "outputs": [
    {
     "name": "stderr",
     "output_type": "stream",
     "text": [
      "C:\\Users\\bmilinic\\AppData\\Local\\Temp\\1\\ipykernel_32428\\701305936.py:8: SettingWithCopyWarning: \n",
      "A value is trying to be set on a copy of a slice from a DataFrame.\n",
      "Try using .loc[row_indexer,col_indexer] = value instead\n",
      "\n",
      "See the caveats in the documentation: https://pandas.pydata.org/pandas-docs/stable/user_guide/indexing.html#returning-a-view-versus-a-copy\n",
      "  tblOE2[\"OtherEquipStickupLength_m\"] = tblOE2[\"OtherEquipStickupLength_ft\"].mul(0.3048).round(3)\n"
     ]
    }
   ],
   "source": [
    "tblOE2 = tblOE[[\"LocalSiteName\",\n",
    "                \"LocalUseCode\",\n",
    "                \"OtherEquipStickupLength_ft\",\n",
    "                \"OtherEquipmentPurpose\",\n",
    "                \"Comments_Equipment\",\n",
    "                \"Comments\"]]\n",
    "\n",
    "tblOE2[\"OtherEquipStickupLength_m\"] = tblOE2[\"OtherEquipStickupLength_ft\"].mul(0.3048).round(3)\n",
    "tblOE2 = tblOE2.rename(columns={'OtherEquipStickupLength_m':'OtherEquip_MP_height_m'})\n",
    "tblOE2 = pd.merge(tblOE2, tblSites3[[\"LocalSiteName\",\n",
    "                                   \"StudySite\",\n",
    "                                   \"USGS_siteno\",\n",
    "                                   \"USGS_StationName\",\n",
    "                                   \"XcoordUTMNAD83_m\",\n",
    "                                   \"YcoordUTMNAD83_m\",\n",
    "                                   \"OnNorthWellTransect\",\n",
    "                                   \"DistanceFromCenterOfNorthOilBody_m\",\n",
    "                                   \"LandSurfaceElevation_mASL_NAVD88\",\n",
    "                                   \"DateOfConstruction\",\n",
    "                                   \"Comments_DateOfConstruction\",\n",
    "                                   \"NameOfContractor\",\n",
    "                                   \"DrillerName\",\n",
    "                                   \"Comments_Miscellaneous\"]], how='left')\n",
    "tblOE2 = pd.merge(tblOE2, tblcd_LocalUseCode[['LocalUseCode','Comments_UseCode']])\n",
    "tblOE2 = tblOE2[[\"LocalSiteName\",\n",
    "                 \"StudySite\",\n",
    "                 \"LocalUseCode\",\n",
    "                 \"Comments_UseCode\",\n",
    "                 \"USGS_siteno\",\n",
    "                 \"USGS_StationName\",\n",
    "                 \"XcoordUTMNAD83_m\",\n",
    "                 \"YcoordUTMNAD83_m\",\n",
    "                 \"OnNorthWellTransect\",\n",
    "                 \"DistanceFromCenterOfNorthOilBody_m\",\n",
    "                 \"LandSurfaceElevation_mASL_NAVD88\",\n",
    "                 \"OtherEquip_MP_height_m\",\n",
    "                 \"DateOfConstruction\",\n",
    "                 \"Comments_DateOfConstruction\",\n",
    "                 \"NameOfContractor\",\n",
    "                 \"DrillerName\",\n",
    "                 \"OtherEquipmentPurpose\",\n",
    "                 \"Comments_Equipment\",\n",
    "                 \"Comments\",\n",
    "                 \"Comments_Miscellaneous\"]]\n",
    "tblOE2['LocalSiteName'] = 'x' + tblOE2['LocalSiteName'].astype(str)\n",
    "tblOE2['USGS_siteno'] = 'x' + tblOE2['USGS_siteno'].astype(str)\n",
    "tblOE2['USGS_siteno'] = tblOE2['USGS_siteno'].replace('xnan', np.nan)\n",
    "null_cells = tblOE2.isnull()\n",
    "tblOE2 = tblOE2.astype(str).mask(null_cells, np.NaN)"
   ]
  },
  {
   "cell_type": "markdown",
   "metadata": {},
   "source": [
    "# tblCores"
   ]
  },
  {
   "cell_type": "code",
   "execution_count": 21,
   "metadata": {},
   "outputs": [],
   "source": [
    "tblCores2 = tblCores[['CoreEntryRecordNumber', 'LocalSiteName', 'LocalSiteCoreSubName',\n",
    "       'CoreLocationNear', 'DepthDrilledBeforeCoring_ftBLS',\n",
    "       'CoringBegan_ftBLS', 'CoringEnded_ftBLS', 'CoreBarrelType',\n",
    "       'TotalCoreLengthPounded_ft', 'CoreDrivingEquipment', 'OilSmell',\n",
    "       'C02Used', 'TakeC02', 'CoreRecoveryLength_ft', 'MethaneBubblesPresent',\n",
    "       'SubsurfaceCoreZone', 'PostCoreEquipmentInstallation', 'MultipleCores',\n",
    "       'FreeProductOilPresentInCore', 'DrillersFieldComments',\n",
    "       'TypeOfBackFill', 'NumberBagsOfBentonite', 'BentoniteUsed',\n",
    "       'GWSIMethodOfConstruction', 'TypeOfSeal', 'DepthofSeal_ftBLS',\n",
    "       'StartOfSeal_ftBLS', 'SourceOfConstructionData', 'CoreStickupSource',\n",
    "       'CoreStickupLength_ft', 'TypeOfBentonite', 'NumberOfBagsCleanSand',\n",
    "       'CoreAltitudeOfMeasuringPoint_ftASL_NAVD88',\n",
    "       'CoreAltitudeOfMeasuringPoint_mASL_NAVD88',\n",
    "       'CoreMeasuringPointAltitudeRemarks', 'CoreMPVerticalSource',\n",
    "       'LocalUseCode', 'Wellcon_SiteRecordID', 'CorePurposePlannedAnalyses',\n",
    "       'CoreProjectID', 'CementPadInstalled', 'MarkedWithCorePlate',]]  \n",
    "\n",
    "#Calculations loop AND renaming\n",
    "vars_ft = ['CoreStickupLength_ft',\n",
    "           'CoringBegan_ftBLS',\n",
    "           'CoringEnded_ftBLS',\n",
    "           'CoreRecoveryLength_ft',\n",
    "           'TotalCoreLengthPounded_ft']\n",
    "vars_m = [i.replace('ft', 'm') for i in vars_ft]\n",
    "for var_ft, var_m in zip(vars_ft, vars_m):\n",
    "        tblCores2[var_m] = tblCores2[var_ft].mul(0.3048).round(3)\n",
    "\n",
    "tblCores2 = tblCores2.rename(columns={\n",
    "                                'CoreStickupLength_m':'Core_MP_height_m',\n",
    "                                'TotalCoreLengthPounded_m':'CoreLengthPounded_m'})\n",
    "\n",
    "#Merging\n",
    "tblCores2 = pd.merge(tblCores2, tblSites3[[\"LocalSiteName\",\n",
    "                                     \"StudySite\",\n",
    "                                     \"USGS_siteno\",\n",
    "                                     \"USGS_StationName\",\n",
    "                                     \"XcoordUTMNAD83_m\",\n",
    "                                     \"YcoordUTMNAD83_m\",\n",
    "                                     \"OnNorthWellTransect\",\n",
    "                                     \"DistanceFromCenterOfNorthOilBody_m\",\n",
    "                                     \"LandSurfaceElevation_mASL_NAVD88\",\n",
    "                                     \"TotalBoring/DrillingDepth_mBLS\", \n",
    "                                     \"DateOfConstruction\",\n",
    "                                     \"Comments_DateOfConstruction\",\n",
    "                                     \"TotalBoring/DrillingDepth_ftBLS\", \n",
    "                                     \"NameOfContractor\",\n",
    "                                     \"DrillerName\",\n",
    "                                     \"Comments_Miscellaneous\"]], how='left')\n",
    "tblCores2 = pd.merge(tblCores2, tblcd_LocalUseCode[['LocalUseCode','Comments_UseCode']])\n",
    "\n",
    "#New calculaton after merge\n",
    "tblCores2['TopOfCoreElevation_mASL_NAVD88'] = tblCores2['LandSurfaceElevation_mASL_NAVD88'] - tblCores2['CoringBegan_mBLS']\n",
    "\n",
    "#rearange to put in order of data release\n",
    "tblCores2 = tblCores2[[\"LocalSiteName\",\n",
    "                       \"StudySite\",\n",
    "                       \"LocalUseCode\",\n",
    "                       \"Comments_UseCode\",\n",
    "                       \"USGS_siteno\",\n",
    "                       \"USGS_StationName\",\n",
    "                       \"LocalSiteCoreSubName\",\n",
    "                       \"XcoordUTMNAD83_m\",\n",
    "                       \"YcoordUTMNAD83_m\",\n",
    "                       \"OnNorthWellTransect\",\n",
    "                       \"DistanceFromCenterOfNorthOilBody_m\",\n",
    "                       \"LandSurfaceElevation_mASL_NAVD88\",\n",
    "                       \"Core_MP_height_m\",\n",
    "                       \"DateOfConstruction\",\n",
    "                       \"Comments_DateOfConstruction\",\n",
    "                       \"TotalBoring/DrillingDepth_mBLS\",\n",
    "                       \"NameOfContractor\",\n",
    "                       \"DrillerName\",\n",
    "                       \"CoringBegan_mBLS\",\n",
    "                       \"CoringEnded_mBLS\",\n",
    "                       \"CoreRecoveryLength_m\",\n",
    "                       \"TopOfCoreElevation_mASL_NAVD88\",\n",
    "                       \"CoreLengthPounded_m\",\n",
    "                       \"CoreBarrelType\",\n",
    "                       \"SubsurfaceCoreZone\",\n",
    "                       \"FreeProductOilPresentInCore\",\n",
    "                       \"DrillersFieldComments\",\n",
    "                       \"Comments_Miscellaneous\"]]       \n",
    "\n",
    "#Format columns and male nan values uniform\n",
    "tblCores2['LocalSiteName'] = 'x' + tblCores2['LocalSiteName'].astype(str)\n",
    "tblCores2['USGS_siteno'] = 'x' + tblCores2['USGS_siteno'].astype(str)\n",
    "tblCores2['USGS_siteno'] = tblCores2['USGS_siteno'].replace('xnan', np.nan)\n",
    "null_cells = tblCores2.isnull()\n",
    "tblCores2 = tblCores2.astype(str).mask(null_cells, np.NaN)\n"
   ]
  },
  {
   "attachments": {},
   "cell_type": "markdown",
   "metadata": {},
   "source": [
    "# tblWells"
   ]
  },
  {
   "cell_type": "code",
   "execution_count": 22,
   "metadata": {},
   "outputs": [
    {
     "data": {
      "text/plain": [
       "Index(['agency_cd', 'alt_acy_va', 'alt_datum_cd', 'alt_meth_cd', 'alt_va',\n",
       "       'aqfr_cd', 'aqfr_type_cd', 'basin_cd', 'construction_dt',\n",
       "       'contrib_drain_area_va', 'coord_acy_cd', 'coord_datum_cd',\n",
       "       'coord_meth_cd', 'country_cd', 'county_cd', 'dec_coord_datum_cd',\n",
       "       'dec_lat_va', 'dec_long_va', 'depth_src_cd', 'district_cd',\n",
       "       'drain_area_va', 'gw_file_cd', 'hole_depth_va', 'huc_cd',\n",
       "       'instruments_cd', 'inventory_dt', 'land_net_ds', 'lat_va',\n",
       "       'local_time_fg', 'long_va', 'map_nm', 'map_scale_fc', 'nat_aqfr_cd',\n",
       "       'project_no', 'reliability_cd', 'site_no', 'site_tp_cd', 'state_cd',\n",
       "       'station_nm', 'topo_cd', 'tz_cd', 'well_depth_va'],\n",
       "      dtype='object')"
      ]
     },
     "execution_count": 22,
     "metadata": {},
     "output_type": "execute_result"
    }
   ],
   "source": [
    "#PRINT OUT DF KEYS IN ABC ORDER\n",
    "dfmlr.reindex(sorted(dfmlr.columns), axis=1).keys()"
   ]
  },
  {
   "cell_type": "code",
   "execution_count": 25,
   "metadata": {},
   "outputs": [],
   "source": [
    "# since already created, start with the merge\n",
    "tblWells3 = pd.merge(tblWells2, tblSites3,  on='LocalSiteName', how='left') #tblSites3 here already has dfmlr in it!\n",
    "tblWells3 = pd.merge(tblWells3, dfbmj3, left_on='USGS_siteno', right_on='GWSI_USGS_siteno', how='left')\n",
    "\n",
    "# add tblcd info\n",
    "tblWells3 = pd.merge(tblWells3, tblcd_OpeningType[[\"TypeOfOpenInterval\", \"comments_OpeningType\"]], left_on='GWSI_TypeOfOpenInterval', right_on='TypeOfOpenInterval', how='left')\n",
    "tblWells3 = pd.merge(tblWells3, tblcd_LocalUseCode[[\"LocalUseCode\", \"Comments_UseCode\"]], how='left')\n",
    "tblWells3 = pd.merge(tblWells3, tblcd_CasingMaterial[[\"CasingMaterial\", \"Comments_CasingMaterial\"]], left_on='GWSI_CasingMaterial', right_on='CasingMaterial', how='left')\n",
    "tblWells3 = pd.merge(tblWells3, tblcd_ScreenMaterial[[\"ScreenMaterial\", \"Comments_ScreenMaterial\"]], left_on='GWSI_ScreenMaterialType', right_on='ScreenMaterial', how='left')\n",
    "\n",
    "# rename tblcd info\n",
    "tblWells3 = tblWells3.rename(columns={\"comments_OpeningType\":'OpeningTypeDescription'})\n",
    "tblWells3 = tblWells3.rename(columns={\"Comments_CasingMaterial\":'CasingMaterialDescription'})\n",
    "tblWells3 = tblWells3.rename(columns={\"Comments_ScreenMaterial\":'ScreenMaterialDescription'})\n",
    "\n",
    "# NEWEST AUTHORITATIVE SOURCES (1/11/2023) for MLR (already in tblWells3 since its already in tblSites3)\n",
    "# well depth\n",
    "tblWells3['well_depth_va'] = tblWells3['well_depth_va'].mul(0.3048).round(3)\n",
    "tblWells3['TotalWellDepth_mBLS'] = tblWells3['well_depth_va'].where(tblWells3['well_depth_va'].notna(), tblWells3['TotalWellDepth_mBLS'])\n",
    "#AQUARIUS\n",
    "tblWells3 = pd.merge(tblWells3, dfaq, left_on='USGS_siteno', right_on='site', how='left')\n",
    "#MP height\n",
    "tblWells3['Elevation'] = tblWells3['Elevation'].mul(0.3048).round(3)\n",
    "tblWells3['well_MP_height_m'] = tblWells3['Elevation'].where(tblWells3['Elevation'].notna(), tblWells3['well_MP_height_m'])\n",
    "\n"
   ]
  },
  {
   "cell_type": "code",
   "execution_count": 26,
   "metadata": {},
   "outputs": [
    {
     "data": {
      "text/plain": [
       "Index(['AgencyCode', 'AgencyUse', 'AltitudeOfMeasuringPoint_ftASL_NAVD88',\n",
       "       'AltitudeOfMeasuringPoint_mASL_NAVD88', 'AppliedByUser', 'AppliedTime',\n",
       "       'ApproxRemovalDate', 'BentoniteUsed', 'BottomOfScreenDepth_ftBLS',\n",
       "       'BottomOfScreenElevation_mASL_NAVD88',\n",
       "       ...\n",
       "       'reliability_cd', 'site', 'site_no', 'site_tp_cd', 'state_cd',\n",
       "       'station_nm', 'topo_cd', 'tz_cd', 'well_MP_height_m', 'well_depth_va'],\n",
       "      dtype='object', length=274)"
      ]
     },
     "execution_count": 26,
     "metadata": {},
     "output_type": "execute_result"
    }
   ],
   "source": [
    "#PRINT OUT DF KEYS IN ABC ORDER\n",
    "tblWells3.reindex(sorted(tblWells3.columns), axis=1).keys()"
   ]
  },
  {
   "cell_type": "code",
   "execution_count": 27,
   "metadata": {},
   "outputs": [
    {
     "name": "stdout",
     "output_type": "stream",
     "text": [
      "(615, 274)\n",
      "(340, 16)\n",
      "(612, 42)\n"
     ]
    }
   ],
   "source": [
    "print(tblWells3.shape)\n",
    "print(dfaq.shape)\n",
    "print(dfmlr.shape)"
   ]
  },
  {
   "cell_type": "code",
   "execution_count": null,
   "metadata": {},
   "outputs": [],
   "source": [
    "tblWells3[['USGS_siteno','DateOfConstruction','ApproxRemovalDate','ValidFrom','DecommissionedDate', 'GWSI_MP_BeginDate', 'GWSI_MP_EndDate']].sample(10)"
   ]
  },
  {
   "cell_type": "code",
   "execution_count": 30,
   "metadata": {},
   "outputs": [
    {
     "data": {
      "text/html": [
       "<div>\n",
       "<style scoped>\n",
       "    .dataframe tbody tr th:only-of-type {\n",
       "        vertical-align: middle;\n",
       "    }\n",
       "\n",
       "    .dataframe tbody tr th {\n",
       "        vertical-align: top;\n",
       "    }\n",
       "\n",
       "    .dataframe thead th {\n",
       "        text-align: right;\n",
       "    }\n",
       "</style>\n",
       "<table border=\"1\" class=\"dataframe\">\n",
       "  <thead>\n",
       "    <tr style=\"text-align: right;\">\n",
       "      <th></th>\n",
       "      <th>USGS_siteno</th>\n",
       "      <th>DateOfConstruction</th>\n",
       "      <th>ApproxRemovalDate</th>\n",
       "      <th>ValidFrom</th>\n",
       "      <th>DecommissionedDate</th>\n",
       "      <th>GWSI_MP_BeginDate</th>\n",
       "      <th>GWSI_MP_EndDate</th>\n",
       "      <th>well_MP_height_m</th>\n",
       "      <th>Elevation</th>\n",
       "    </tr>\n",
       "  </thead>\n",
       "  <tbody>\n",
       "    <tr>\n",
       "      <th>34</th>\n",
       "      <td>4.734161e+14</td>\n",
       "      <td>20190628.0</td>\n",
       "      <td>None</td>\n",
       "      <td>0001-01-01T00:00:00.0000000+00:00</td>\n",
       "      <td>NaN</td>\n",
       "      <td>20190628.0</td>\n",
       "      <td>NaN</td>\n",
       "      <td>0.000</td>\n",
       "      <td>0.000</td>\n",
       "    </tr>\n",
       "    <tr>\n",
       "      <th>35</th>\n",
       "      <td>4.734311e+14</td>\n",
       "      <td>20190627.0</td>\n",
       "      <td>None</td>\n",
       "      <td>0001-01-01T00:00:00.0000000+00:00</td>\n",
       "      <td>NaN</td>\n",
       "      <td>20190627.0</td>\n",
       "      <td>NaN</td>\n",
       "      <td>0.000</td>\n",
       "      <td>0.000</td>\n",
       "    </tr>\n",
       "    <tr>\n",
       "      <th>36</th>\n",
       "      <td>4.733561e+14</td>\n",
       "      <td>20190628.0</td>\n",
       "      <td>None</td>\n",
       "      <td>0001-01-01T00:00:00.0000000+00:00</td>\n",
       "      <td>NaN</td>\n",
       "      <td>20190628.0</td>\n",
       "      <td>NaN</td>\n",
       "      <td>0.000</td>\n",
       "      <td>0.000</td>\n",
       "    </tr>\n",
       "    <tr>\n",
       "      <th>37</th>\n",
       "      <td>4.734191e+14</td>\n",
       "      <td>20190627.0</td>\n",
       "      <td>None</td>\n",
       "      <td>0001-01-01T00:00:00.0000000+00:00</td>\n",
       "      <td>NaN</td>\n",
       "      <td>20190627.0</td>\n",
       "      <td>NaN</td>\n",
       "      <td>0.000</td>\n",
       "      <td>0.000</td>\n",
       "    </tr>\n",
       "    <tr>\n",
       "      <th>38</th>\n",
       "      <td>4.734081e+14</td>\n",
       "      <td>20190628.0</td>\n",
       "      <td>None</td>\n",
       "      <td>0001-01-01T00:00:00.0000000+00:00</td>\n",
       "      <td>NaN</td>\n",
       "      <td>20190628.0</td>\n",
       "      <td>NaN</td>\n",
       "      <td>0.000</td>\n",
       "      <td>0.000</td>\n",
       "    </tr>\n",
       "    <tr>\n",
       "      <th>450</th>\n",
       "      <td>4.734291e+14</td>\n",
       "      <td>20210623.0</td>\n",
       "      <td>None</td>\n",
       "      <td>0001-01-01T00:00:00.0000000+00:00</td>\n",
       "      <td>NaN</td>\n",
       "      <td>NaN</td>\n",
       "      <td>NaN</td>\n",
       "      <td>0.677</td>\n",
       "      <td>0.677</td>\n",
       "    </tr>\n",
       "    <tr>\n",
       "      <th>451</th>\n",
       "      <td>4.734291e+14</td>\n",
       "      <td>20210623.0</td>\n",
       "      <td>None</td>\n",
       "      <td>0001-01-01T00:00:00.0000000+00:00</td>\n",
       "      <td>NaN</td>\n",
       "      <td>NaN</td>\n",
       "      <td>NaN</td>\n",
       "      <td>0.722</td>\n",
       "      <td>0.722</td>\n",
       "    </tr>\n",
       "    <tr>\n",
       "      <th>452</th>\n",
       "      <td>4.734291e+14</td>\n",
       "      <td>20210624.0</td>\n",
       "      <td>None</td>\n",
       "      <td>0001-01-01T00:00:00.0000000+00:00</td>\n",
       "      <td>NaN</td>\n",
       "      <td>NaN</td>\n",
       "      <td>NaN</td>\n",
       "      <td>0.677</td>\n",
       "      <td>0.677</td>\n",
       "    </tr>\n",
       "    <tr>\n",
       "      <th>453</th>\n",
       "      <td>4.734291e+14</td>\n",
       "      <td>20210625.0</td>\n",
       "      <td>None</td>\n",
       "      <td>0001-01-01T00:00:00.0000000+00:00</td>\n",
       "      <td>NaN</td>\n",
       "      <td>NaN</td>\n",
       "      <td>NaN</td>\n",
       "      <td>0.549</td>\n",
       "      <td>0.549</td>\n",
       "    </tr>\n",
       "    <tr>\n",
       "      <th>454</th>\n",
       "      <td>4.734301e+14</td>\n",
       "      <td>20210815.0</td>\n",
       "      <td>None</td>\n",
       "      <td>0001-01-01T00:00:00.0000000+00:00</td>\n",
       "      <td>NaN</td>\n",
       "      <td>NaN</td>\n",
       "      <td>NaN</td>\n",
       "      <td>0.847</td>\n",
       "      <td>0.847</td>\n",
       "    </tr>\n",
       "    <tr>\n",
       "      <th>455</th>\n",
       "      <td>4.734301e+14</td>\n",
       "      <td>20210815.0</td>\n",
       "      <td>None</td>\n",
       "      <td>0001-01-01T00:00:00.0000000+00:00</td>\n",
       "      <td>NaN</td>\n",
       "      <td>NaN</td>\n",
       "      <td>NaN</td>\n",
       "      <td>0.844</td>\n",
       "      <td>0.844</td>\n",
       "    </tr>\n",
       "    <tr>\n",
       "      <th>456</th>\n",
       "      <td>4.734301e+14</td>\n",
       "      <td>20210814.0</td>\n",
       "      <td>None</td>\n",
       "      <td>0001-01-01T00:00:00.0000000+00:00</td>\n",
       "      <td>NaN</td>\n",
       "      <td>NaN</td>\n",
       "      <td>NaN</td>\n",
       "      <td>0.847</td>\n",
       "      <td>0.847</td>\n",
       "    </tr>\n",
       "    <tr>\n",
       "      <th>539</th>\n",
       "      <td>4.734301e+14</td>\n",
       "      <td>20210621.0</td>\n",
       "      <td>None</td>\n",
       "      <td>0001-01-01T00:00:00.0000000+00:00</td>\n",
       "      <td>NaN</td>\n",
       "      <td>NaN</td>\n",
       "      <td>NaN</td>\n",
       "      <td>0.750</td>\n",
       "      <td>0.750</td>\n",
       "    </tr>\n",
       "    <tr>\n",
       "      <th>540</th>\n",
       "      <td>4.734291e+14</td>\n",
       "      <td>20210622.0</td>\n",
       "      <td>None</td>\n",
       "      <td>0001-01-01T00:00:00.0000000+00:00</td>\n",
       "      <td>NaN</td>\n",
       "      <td>NaN</td>\n",
       "      <td>NaN</td>\n",
       "      <td>0.509</td>\n",
       "      <td>0.509</td>\n",
       "    </tr>\n",
       "    <tr>\n",
       "      <th>541</th>\n",
       "      <td>4.734291e+14</td>\n",
       "      <td>20210623.0</td>\n",
       "      <td>None</td>\n",
       "      <td>0001-01-01T00:00:00.0000000+00:00</td>\n",
       "      <td>NaN</td>\n",
       "      <td>NaN</td>\n",
       "      <td>NaN</td>\n",
       "      <td>0.838</td>\n",
       "      <td>0.838</td>\n",
       "    </tr>\n",
       "  </tbody>\n",
       "</table>\n",
       "</div>"
      ],
      "text/plain": [
       "      USGS_siteno DateOfConstruction ApproxRemovalDate  \\\n",
       "34   4.734161e+14         20190628.0              None   \n",
       "35   4.734311e+14         20190627.0              None   \n",
       "36   4.733561e+14         20190628.0              None   \n",
       "37   4.734191e+14         20190627.0              None   \n",
       "38   4.734081e+14         20190628.0              None   \n",
       "450  4.734291e+14         20210623.0              None   \n",
       "451  4.734291e+14         20210623.0              None   \n",
       "452  4.734291e+14         20210624.0              None   \n",
       "453  4.734291e+14         20210625.0              None   \n",
       "454  4.734301e+14         20210815.0              None   \n",
       "455  4.734301e+14         20210815.0              None   \n",
       "456  4.734301e+14         20210814.0              None   \n",
       "539  4.734301e+14         20210621.0              None   \n",
       "540  4.734291e+14         20210622.0              None   \n",
       "541  4.734291e+14         20210623.0              None   \n",
       "\n",
       "                             ValidFrom DecommissionedDate  GWSI_MP_BeginDate  \\\n",
       "34   0001-01-01T00:00:00.0000000+00:00                NaN         20190628.0   \n",
       "35   0001-01-01T00:00:00.0000000+00:00                NaN         20190627.0   \n",
       "36   0001-01-01T00:00:00.0000000+00:00                NaN         20190628.0   \n",
       "37   0001-01-01T00:00:00.0000000+00:00                NaN         20190627.0   \n",
       "38   0001-01-01T00:00:00.0000000+00:00                NaN         20190628.0   \n",
       "450  0001-01-01T00:00:00.0000000+00:00                NaN                NaN   \n",
       "451  0001-01-01T00:00:00.0000000+00:00                NaN                NaN   \n",
       "452  0001-01-01T00:00:00.0000000+00:00                NaN                NaN   \n",
       "453  0001-01-01T00:00:00.0000000+00:00                NaN                NaN   \n",
       "454  0001-01-01T00:00:00.0000000+00:00                NaN                NaN   \n",
       "455  0001-01-01T00:00:00.0000000+00:00                NaN                NaN   \n",
       "456  0001-01-01T00:00:00.0000000+00:00                NaN                NaN   \n",
       "539  0001-01-01T00:00:00.0000000+00:00                NaN                NaN   \n",
       "540  0001-01-01T00:00:00.0000000+00:00                NaN                NaN   \n",
       "541  0001-01-01T00:00:00.0000000+00:00                NaN                NaN   \n",
       "\n",
       "     GWSI_MP_EndDate  well_MP_height_m  Elevation  \n",
       "34               NaN             0.000      0.000  \n",
       "35               NaN             0.000      0.000  \n",
       "36               NaN             0.000      0.000  \n",
       "37               NaN             0.000      0.000  \n",
       "38               NaN             0.000      0.000  \n",
       "450              NaN             0.677      0.677  \n",
       "451              NaN             0.722      0.722  \n",
       "452              NaN             0.677      0.677  \n",
       "453              NaN             0.549      0.549  \n",
       "454              NaN             0.847      0.847  \n",
       "455              NaN             0.844      0.844  \n",
       "456              NaN             0.847      0.847  \n",
       "539              NaN             0.750      0.750  \n",
       "540              NaN             0.509      0.509  \n",
       "541              NaN             0.838      0.838  "
      ]
     },
     "execution_count": 30,
     "metadata": {},
     "output_type": "execute_result"
    }
   ],
   "source": [
    "tblWells3[['USGS_siteno','DateOfConstruction','ApproxRemovalDate','ValidFrom','DecommissionedDate', 'GWSI_MP_BeginDate', 'GWSI_MP_EndDate', 'well_MP_height_m', 'Elevation']].loc[tblWells3['ValidFrom'] == '0001-01-01T00:00:00.0000000+00:00']"
   ]
  },
  {
   "cell_type": "code",
   "execution_count": null,
   "metadata": {},
   "outputs": [],
   "source": [
    "tblWells3.loc[tblWells3['LocalSiteName'] == '518G-06']"
   ]
  },
  {
   "cell_type": "code",
   "execution_count": null,
   "metadata": {},
   "outputs": [],
   "source": [
    "#automating this process\n",
    "v1 = 'well_MP_height_m' # old variable\n",
    "v2 = 'Elevation' # new variable\n",
    "t1 = 'tblWells3' # table name\n",
    "\n",
    "\n",
    "print(t1+\"['\"+v2+\"'] = \"+t1+\"['\"+v2+\"'].mul(0.3048).round(3)\")\n",
    "print(t1+\"['\"+v1+\"'] = \"+t1+\"['\"+v2+\"'].where(\"+t1+\"['\"+v2+\"'].notna(), \"+t1+\"['\"+v1+\"'])\")\n",
    "print(t1+\"[['USGS_siteno', '\"+v1+\"', '\"+v2+\"']].sample(10)\")"
   ]
  },
  {
   "cell_type": "code",
   "execution_count": null,
   "metadata": {},
   "outputs": [],
   "source": [
    "#data release\n",
    "# select a subset of data\n",
    "tblWells3 = tblWells3[[\"LocalSiteName\",\n",
    "                       \"StudySite\",\n",
    "                       \"LocalUseCode\",\n",
    "                       \"Comments_UseCode\",\n",
    "                       \"USGS_siteno\",\n",
    "                       \"USGS_StationName\",\n",
    "                       \"XcoordUTMNAD83_m\",\n",
    "                       \"YcoordUTMNAD83_m\",\n",
    "                       \"OnNorthWellTransect\",\n",
    "                       \"DistanceFromCenterOfNorthOilBody_m\",\n",
    "                       \"MeasuringPointElevation_mASL_NAVD88\", \n",
    "                       \"well_MP_height_m\",\n",
    "                       \"LandSurfaceAltitude_mASL_NAVD88\",\n",
    "                       \"TopOfScreenElevation_mASL_NAVD88\",\n",
    "                       \"BottomOfScreenElevation_mASL_NAVD88\",\n",
    "                       \"ScreenLength_m\",\n",
    "                       \"MidOfScreenElevation_mASL_NAVD88\",\n",
    "                       \"TotalWellDepth_mBLS\",\n",
    "                       \"TotalBoring/DrillingDepth_mBLS\",\n",
    "                       \"DiameterOfDrillHole_cm\",\n",
    "                       \"WellCasingInnerDiameter_cm\",\n",
    "                       \"OpeningTypeDescription\",\n",
    "                       \"WidthOfOpeningsInOpenInterval_cm\",\n",
    "                       \"CasingMaterialDescription\",\n",
    "                       \"ScreenMaterialDescription\",\n",
    "                       \"DateOfConstruction\",\n",
    "                       \"Comments_DateOfConstruction\",\n",
    "                       \"NameOfContractor\",\n",
    "                       \"DrillerName\",\n",
    "                       \"Comments_Miscellaneous\",\n",
    "                       \"SiteActiveStatus\",\n",
    "                       \"Comments_Status\",\n",
    "                       \"ApproxRemovalDate\"]]  \n",
    "\n",
    "# formatting columns\n",
    "tblWells3['LocalSiteName'] = 'x' + tblWells3['LocalSiteName'].astype(str)\n",
    "tblWells3['USGS_siteno'] = 'x' + tblWells3['USGS_siteno'].astype(str)\n",
    "#Make nan values uniform\n",
    "tblWells3['USGS_siteno'] = tblWells3['USGS_siteno'].replace('xnan', np.nan)\n",
    "null_cells = tblWells3.isnull()\n",
    "tblWells3 = tblWells3.astype(str).mask(null_cells, np.NaN)  "
   ]
  },
  {
   "attachments": {},
   "cell_type": "markdown",
   "metadata": {},
   "source": [
    "# bmj_rmk data release"
   ]
  },
  {
   "cell_type": "code",
   "execution_count": null,
   "metadata": {},
   "outputs": [],
   "source": [
    "dfrmk2 = dfrmk[['GWSI_AgencyCode', 'GWSI_USGS_siteno', 'GWSI_GWSI_RMK',\n",
    "       'GWSI_GWSI_RMK_Date', 'GWSI_GWSI_RMK_SequenceNo']]\n",
    "\n",
    "# make columns the same datatype of interger\n",
    "tblSites['USGS_siteno'] = tblSites['USGS_siteno'].fillna(0).astype('int64')\n",
    "# dfrmk2's is already an interger\n",
    "dfrmk2 = pd.merge(dfrmk2, tblSites[['USGS_siteno', 'LocalSiteName']], left_on= \"GWSI_USGS_siteno\", right_on= 'USGS_siteno', how='left')"
   ]
  },
  {
   "cell_type": "code",
   "execution_count": null,
   "metadata": {},
   "outputs": [],
   "source": [
    "# organize for data release\n",
    "dfrmk3 = dfrmk2[['GWSI_AgencyCode',\n",
    "                 'GWSI_USGS_siteno',\n",
    "                 'LocalSiteName',\n",
    "                 'GWSI_GWSI_RMK',\n",
    "                 'GWSI_GWSI_RMK_Date',\n",
    "                 'GWSI_GWSI_RMK_SequenceNo']]\n",
    "# format numbers with 'x'\n",
    "dfrmk3['GWSI_USGS_siteno'] = 'x' + dfrmk3['GWSI_USGS_siteno'].astype(str)\n",
    "dfrmk3['LocalSiteName'] = 'x' + dfrmk3['LocalSiteName'].astype(str)"
   ]
  },
  {
   "attachments": {},
   "cell_type": "markdown",
   "metadata": {},
   "source": [
    "# Saving Every Figure in a new directory"
   ]
  },
  {
   "cell_type": "code",
   "execution_count": null,
   "metadata": {},
   "outputs": [],
   "source": [
    "# create variable with today's date\n",
    "date = datetime.today().strftime('%Y%m%d') \n",
    "# create variable for new folder/directory\n",
    "dir = \"data_outputs/\"+date+\"_datarelease\" # new directory location and name\n",
    "# create the directory unless it already exists...then skip\n",
    "try:\n",
    "    os.mkdir(dir)\n",
    "except:\n",
    "    pass\n",
    "# save all the files there \n",
    "mastersitelist.to_csv(dir+\"/DataRelease_MasterSiteList.csv\", index=False)\n",
    "tblOE2.to_csv(dir+\"/DataRelease_OtherEquipmentInformation.csv\", index=False)\n",
    "tblCores2.to_csv(dir+\"/DataRelease_CoreInformation.csv\", index=False)\n",
    "tblWells3.to_csv(dir+\"/DataRelease_WellConstructionInformation.csv\", index=False)\n",
    "dfrmk3.to_csv(dir+\"/DataRelease_rmk3.csv\", index=False)"
   ]
  },
  {
   "attachments": {},
   "cell_type": "markdown",
   "metadata": {},
   "source": [
    "# Fixing the caveat that keeps popping up"
   ]
  },
  {
   "cell_type": "code",
   "execution_count": null,
   "metadata": {},
   "outputs": [],
   "source": [
    "dfrmk2 = dfrmk[['GWSI_AgencyCode', \n",
    "                'GWSI_USGS_siteno', \n",
    "                'GWSI_GWSI_RMK',\n",
    "                'GWSI_GWSI_RMK_Date', \n",
    "                'GWSI_GWSI_RMK_SequenceNo']]\n",
    "\n",
    "#would translate into\n",
    "\n",
    "dfrmk2 = dfrmk.loc[:, ['GWSI_AgencyCode', \n",
    "                      'GWSI_USGS_siteno', \n",
    "                      'GWSI_GWSI_RMK',\n",
    "                      'GWSI_GWSI_RMK_Date', \n",
    "                      'GWSI_GWSI_RMK_SequenceNo']]"
   ]
  }
 ],
 "metadata": {
  "kernelspec": {
   "display_name": "Python 3",
   "language": "python",
   "name": "python3"
  },
  "language_info": {
   "codemirror_mode": {
    "name": "ipython",
    "version": 3
   },
   "file_extension": ".py",
   "mimetype": "text/x-python",
   "name": "python",
   "nbconvert_exporter": "python",
   "pygments_lexer": "ipython3",
   "version": "3.9.12"
  },
  "orig_nbformat": 4,
  "vscode": {
   "interpreter": {
    "hash": "88f0d5da0f5c51017bf5fa1411746da694b8be09d55cffcd352725c954b24f48"
   }
  }
 },
 "nbformat": 4,
 "nbformat_minor": 2
}
